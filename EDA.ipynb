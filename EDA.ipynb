{
 "cells": [
  {
   "attachments": {},
   "cell_type": "markdown",
   "metadata": {},
   "source": [
    "EDA\n",
    "-Data analysis\n",
    "-visualization\n",
    "-adding duration for each speach wav file\n"
   ]
  },
  {
   "cell_type": "code",
   "execution_count": 1,
   "metadata": {},
   "outputs": [],
   "source": [
    "import pandas as pd\n",
    "data = pd.read_csv(\"df_iemocap_transcript.csv\")\n"
   ]
  },
  {
   "cell_type": "code",
   "execution_count": 2,
   "metadata": {},
   "outputs": [
    {
     "data": {
      "text/html": [
       "<div>\n",
       "<style scoped>\n",
       "    .dataframe tbody tr th:only-of-type {\n",
       "        vertical-align: middle;\n",
       "    }\n",
       "\n",
       "    .dataframe tbody tr th {\n",
       "        vertical-align: top;\n",
       "    }\n",
       "\n",
       "    .dataframe thead th {\n",
       "        text-align: right;\n",
       "    }\n",
       "</style>\n",
       "<table border=\"1\" class=\"dataframe\">\n",
       "  <thead>\n",
       "    <tr style=\"text-align: right;\">\n",
       "      <th></th>\n",
       "      <th>session</th>\n",
       "      <th>method</th>\n",
       "      <th>gender</th>\n",
       "      <th>emotion</th>\n",
       "      <th>n_annotators</th>\n",
       "      <th>agreement</th>\n",
       "      <th>path</th>\n",
       "      <th>transcript</th>\n",
       "    </tr>\n",
       "  </thead>\n",
       "  <tbody>\n",
       "    <tr>\n",
       "      <th>0</th>\n",
       "      <td>1</td>\n",
       "      <td>script</td>\n",
       "      <td>F</td>\n",
       "      <td>neu</td>\n",
       "      <td>3</td>\n",
       "      <td>3</td>\n",
       "      <td>Session1/sentences/wav/Ses01F_script02_1/Ses01...</td>\n",
       "      <td>Fine.\\n</td>\n",
       "    </tr>\n",
       "    <tr>\n",
       "      <th>1</th>\n",
       "      <td>1</td>\n",
       "      <td>script</td>\n",
       "      <td>F</td>\n",
       "      <td>fru</td>\n",
       "      <td>3</td>\n",
       "      <td>2</td>\n",
       "      <td>Session1/sentences/wav/Ses01F_script02_1/Ses01...</td>\n",
       "      <td>[BREATHING]\\n</td>\n",
       "    </tr>\n",
       "    <tr>\n",
       "      <th>2</th>\n",
       "      <td>1</td>\n",
       "      <td>script</td>\n",
       "      <td>F</td>\n",
       "      <td>xxx</td>\n",
       "      <td>0</td>\n",
       "      <td>0</td>\n",
       "      <td>Session1/sentences/wav/Ses01F_script02_1/Ses01...</td>\n",
       "      <td>What?\\n</td>\n",
       "    </tr>\n",
       "    <tr>\n",
       "      <th>3</th>\n",
       "      <td>1</td>\n",
       "      <td>script</td>\n",
       "      <td>F</td>\n",
       "      <td>sur</td>\n",
       "      <td>3</td>\n",
       "      <td>2</td>\n",
       "      <td>Session1/sentences/wav/Ses01F_script02_1/Ses01...</td>\n",
       "      <td>What flashlight?\\n</td>\n",
       "    </tr>\n",
       "    <tr>\n",
       "      <th>4</th>\n",
       "      <td>1</td>\n",
       "      <td>script</td>\n",
       "      <td>F</td>\n",
       "      <td>neu</td>\n",
       "      <td>3</td>\n",
       "      <td>2</td>\n",
       "      <td>Session1/sentences/wav/Ses01F_script02_1/Ses01...</td>\n",
       "      <td>That's not your flashlight.\\n</td>\n",
       "    </tr>\n",
       "  </tbody>\n",
       "</table>\n",
       "</div>"
      ],
      "text/plain": [
       "   session  method gender emotion  n_annotators  agreement  \\\n",
       "0        1  script      F     neu             3          3   \n",
       "1        1  script      F     fru             3          2   \n",
       "2        1  script      F     xxx             0          0   \n",
       "3        1  script      F     sur             3          2   \n",
       "4        1  script      F     neu             3          2   \n",
       "\n",
       "                                                path  \\\n",
       "0  Session1/sentences/wav/Ses01F_script02_1/Ses01...   \n",
       "1  Session1/sentences/wav/Ses01F_script02_1/Ses01...   \n",
       "2  Session1/sentences/wav/Ses01F_script02_1/Ses01...   \n",
       "3  Session1/sentences/wav/Ses01F_script02_1/Ses01...   \n",
       "4  Session1/sentences/wav/Ses01F_script02_1/Ses01...   \n",
       "\n",
       "                       transcript  \n",
       "0                         Fine.\\n  \n",
       "1                   [BREATHING]\\n  \n",
       "2                         What?\\n  \n",
       "3              What flashlight?\\n  \n",
       "4   That's not your flashlight.\\n  "
      ]
     },
     "execution_count": 2,
     "metadata": {},
     "output_type": "execute_result"
    }
   ],
   "source": [
    "data.head()"
   ]
  },
  {
   "cell_type": "code",
   "execution_count": 3,
   "metadata": {},
   "outputs": [
    {
     "data": {
      "text/plain": [
       "Index(['session', 'method', 'gender', 'emotion', 'n_annotators', 'agreement',\n",
       "       'path', 'transcript'],\n",
       "      dtype='object')"
      ]
     },
     "execution_count": 3,
     "metadata": {},
     "output_type": "execute_result"
    }
   ],
   "source": [
    "data.columns"
   ]
  },
  {
   "cell_type": "code",
   "execution_count": 4,
   "metadata": {},
   "outputs": [
    {
     "data": {
      "text/plain": [
       "xxx    2507\n",
       "fru    1849\n",
       "neu    1708\n",
       "ang    1103\n",
       "sad    1084\n",
       "exc    1041\n",
       "hap     595\n",
       "sur     107\n",
       "fea      40\n",
       "oth       3\n",
       "dis       2\n",
       "Name: emotion, dtype: int64"
      ]
     },
     "execution_count": 4,
     "metadata": {},
     "output_type": "execute_result"
    }
   ],
   "source": [
    "data['emotion'].value_counts()"
   ]
  },
  {
   "cell_type": "code",
   "execution_count": 5,
   "metadata": {},
   "outputs": [
    {
     "data": {
      "text/plain": [
       "fru    1849\n",
       "neu    1708\n",
       "ang    1103\n",
       "sad    1084\n",
       "exc    1041\n",
       "Name: emotion, dtype: int64"
      ]
     },
     "execution_count": 5,
     "metadata": {},
     "output_type": "execute_result"
    }
   ],
   "source": [
    "# check data balance and remove the unbalanced data\n",
    "#df[df.line_race != 0]\n",
    "data = data[~data['emotion'].isin(['xxx','dis','oth','fea','sur','hap'])]\n",
    "\n",
    "data['emotion'].value_counts()\n"
   ]
  },
  {
   "cell_type": "code",
   "execution_count": null,
   "metadata": {},
   "outputs": [],
   "source": []
  },
  {
   "cell_type": "code",
   "execution_count": 6,
   "metadata": {},
   "outputs": [
    {
     "data": {
      "text/plain": [
       "6785"
      ]
     },
     "execution_count": 6,
     "metadata": {},
     "output_type": "execute_result"
    }
   ],
   "source": [
    "#new data after removing unbalanced data\n",
    "len(data)"
   ]
  },
  {
   "cell_type": "code",
   "execution_count": 7,
   "metadata": {},
   "outputs": [
    {
     "data": {
      "text/plain": [
       "6785"
      ]
     },
     "execution_count": 7,
     "metadata": {},
     "output_type": "execute_result"
    }
   ],
   "source": [
    "data = data.reset_index(drop=True)\n",
    "\n",
    "len(data)"
   ]
  },
  {
   "cell_type": "code",
   "execution_count": 8,
   "metadata": {},
   "outputs": [
    {
     "data": {
      "text/plain": [
       "False"
      ]
     },
     "execution_count": 8,
     "metadata": {},
     "output_type": "execute_result"
    }
   ],
   "source": [
    "data.isnull().values.any()"
   ]
  },
  {
   "cell_type": "code",
   "execution_count": 9,
   "metadata": {},
   "outputs": [
    {
     "data": {
      "image/png": "[encoded data removed]",
      "text/plain": [
       "<Figure size 640x480 with 1 Axes>"
      ]
     },
     "metadata": {},
     "output_type": "display_data"
    }
   ],
   "source": [
    "import matplotlib.pyplot as plt\n",
    "\n",
    "# Assume your text data is stored in a list called `texts`\n",
    "text_lengths = [len(text) for text in data['transcript']]\n",
    "\n",
    "# Create a histogram with 10 bins\n",
    "plt.hist(text_lengths, bins=100, rwidth=0.8, histtype='bar')\n",
    "\n",
    "# Add labels and title\n",
    "plt.xlabel(\"Text length\")\n",
    "plt.ylabel(\"Frequency\")\n",
    "plt.title(\"Histogram of Text Length\")\n",
    "\n",
    "# Display the plot\n",
    "plt.show()"
   ]
  },
  {
   "cell_type": "code",
   "execution_count": 21,
   "metadata": {},
   "outputs": [
    {
     "data": {
      "text/plain": [
       "'Session1/sentences/wav/Ses01F_script02_1/Ses01F_script02_1_F006.wav'"
      ]
     },
     "execution_count": 21,
     "metadata": {},
     "output_type": "execute_result"
    }
   ],
   "source": [
    "data['path'][3]"
   ]
  },
  {
   "cell_type": "code",
   "execution_count": 24,
   "metadata": {},
   "outputs": [],
   "source": [
    "import os\n",
    "os.chdir(\"/Users/adham/Desktop/EMO_REC/IEMOCAP_full_release/Sessions\")"
   ]
  },
  {
   "cell_type": "code",
   "execution_count": 30,
   "metadata": {},
   "outputs": [
    {
     "data": {
      "text/html": [
       "<div>\n",
       "<style scoped>\n",
       "    .dataframe tbody tr th:only-of-type {\n",
       "        vertical-align: middle;\n",
       "    }\n",
       "\n",
       "    .dataframe tbody tr th {\n",
       "        vertical-align: top;\n",
       "    }\n",
       "\n",
       "    .dataframe thead th {\n",
       "        text-align: right;\n",
       "    }\n",
       "</style>\n",
       "<table border=\"1\" class=\"dataframe\">\n",
       "  <thead>\n",
       "    <tr style=\"text-align: right;\">\n",
       "      <th></th>\n",
       "      <th>session</th>\n",
       "      <th>method</th>\n",
       "      <th>gender</th>\n",
       "      <th>emotion</th>\n",
       "      <th>n_annotators</th>\n",
       "      <th>agreement</th>\n",
       "      <th>path</th>\n",
       "      <th>transcript</th>\n",
       "      <th>duration</th>\n",
       "    </tr>\n",
       "  </thead>\n",
       "  <tbody>\n",
       "    <tr>\n",
       "      <th>0</th>\n",
       "      <td>1</td>\n",
       "      <td>script</td>\n",
       "      <td>F</td>\n",
       "      <td>neu</td>\n",
       "      <td>3</td>\n",
       "      <td>3</td>\n",
       "      <td>Session1/sentences/wav/Ses01F_script02_1/Ses01...</td>\n",
       "      <td>Fine.\\n</td>\n",
       "      <td>0</td>\n",
       "    </tr>\n",
       "    <tr>\n",
       "      <th>1</th>\n",
       "      <td>1</td>\n",
       "      <td>script</td>\n",
       "      <td>F</td>\n",
       "      <td>fru</td>\n",
       "      <td>3</td>\n",
       "      <td>2</td>\n",
       "      <td>Session1/sentences/wav/Ses01F_script02_1/Ses01...</td>\n",
       "      <td>[BREATHING]\\n</td>\n",
       "      <td>0</td>\n",
       "    </tr>\n",
       "    <tr>\n",
       "      <th>2</th>\n",
       "      <td>1</td>\n",
       "      <td>script</td>\n",
       "      <td>F</td>\n",
       "      <td>neu</td>\n",
       "      <td>3</td>\n",
       "      <td>2</td>\n",
       "      <td>Session1/sentences/wav/Ses01F_script02_1/Ses01...</td>\n",
       "      <td>That's not your flashlight.\\n</td>\n",
       "      <td>0</td>\n",
       "    </tr>\n",
       "    <tr>\n",
       "      <th>3</th>\n",
       "      <td>1</td>\n",
       "      <td>script</td>\n",
       "      <td>F</td>\n",
       "      <td>ang</td>\n",
       "      <td>3</td>\n",
       "      <td>2</td>\n",
       "      <td>Session1/sentences/wav/Ses01F_script02_1/Ses01...</td>\n",
       "      <td>You keep saying my flashlight like it's just ...</td>\n",
       "      <td>0</td>\n",
       "    </tr>\n",
       "    <tr>\n",
       "      <th>4</th>\n",
       "      <td>1</td>\n",
       "      <td>script</td>\n",
       "      <td>F</td>\n",
       "      <td>ang</td>\n",
       "      <td>3</td>\n",
       "      <td>2</td>\n",
       "      <td>Session1/sentences/wav/Ses01F_script02_1/Ses01...</td>\n",
       "      <td>How's that supposed to make me feel?\\n</td>\n",
       "      <td>0</td>\n",
       "    </tr>\n",
       "  </tbody>\n",
       "</table>\n",
       "</div>"
      ],
      "text/plain": [
       "   session  method gender emotion  n_annotators  agreement  \\\n",
       "0        1  script      F     neu             3          3   \n",
       "1        1  script      F     fru             3          2   \n",
       "2        1  script      F     neu             3          2   \n",
       "3        1  script      F     ang             3          2   \n",
       "4        1  script      F     ang             3          2   \n",
       "\n",
       "                                                path  \\\n",
       "0  Session1/sentences/wav/Ses01F_script02_1/Ses01...   \n",
       "1  Session1/sentences/wav/Ses01F_script02_1/Ses01...   \n",
       "2  Session1/sentences/wav/Ses01F_script02_1/Ses01...   \n",
       "3  Session1/sentences/wav/Ses01F_script02_1/Ses01...   \n",
       "4  Session1/sentences/wav/Ses01F_script02_1/Ses01...   \n",
       "\n",
       "                                          transcript  duration  \n",
       "0                                            Fine.\\n         0  \n",
       "1                                      [BREATHING]\\n         0  \n",
       "2                      That's not your flashlight.\\n         0  \n",
       "3   You keep saying my flashlight like it's just ...         0  \n",
       "4             How's that supposed to make me feel?\\n         0  "
      ]
     },
     "execution_count": 30,
     "metadata": {},
     "output_type": "execute_result"
    }
   ],
   "source": [
    "data['duration']=0\n",
    "data.head()"
   ]
  },
  {
   "cell_type": "code",
   "execution_count": 31,
   "metadata": {},
   "outputs": [
    {
     "name": "stderr",
     "output_type": "stream",
     "text": [
      "/var/folders/ty/gwnmr_d57774fcnl_52r4y400000gn/T/ipykernel_1531/4101492060.py:13: SettingWithCopyWarning: \n",
      "A value is trying to be set on a copy of a slice from a DataFrame\n",
      "\n",
      "See the caveats in the documentation: https://pandas.pydata.org/pandas-docs/stable/user_guide/indexing.html#returning-a-view-versus-a-copy\n",
      "  data['duration'][i]=duration\n"
     ]
    }
   ],
   "source": [
    "import wave\n",
    "\n",
    "# Open the .wav file\n",
    "for i in range(len(data)):\n",
    "    with wave.open(data['path'][i], 'r') as wav_file:\n",
    "        #print(i)\n",
    "        #Get the number of frames\n",
    "        num_frames = wav_file.getnframes()\n",
    "        # Get the frame rate (samples per second)\n",
    "        frame_rate = wav_file.getframerate()\n",
    "        # Calculate the duration of the audio in seconds\n",
    "        duration = num_frames / float(frame_rate)\n",
    "        data['duration'][i]=duration\n",
    "        #print(\"Audio duration: {:.2f} seconds\".format(duration))"
   ]
  },
  {
   "cell_type": "code",
   "execution_count": 32,
   "metadata": {},
   "outputs": [
    {
     "data": {
      "text/html": [
       "<div>\n",
       "<style scoped>\n",
       "    .dataframe tbody tr th:only-of-type {\n",
       "        vertical-align: middle;\n",
       "    }\n",
       "\n",
       "    .dataframe tbody tr th {\n",
       "        vertical-align: top;\n",
       "    }\n",
       "\n",
       "    .dataframe thead th {\n",
       "        text-align: right;\n",
       "    }\n",
       "</style>\n",
       "<table border=\"1\" class=\"dataframe\">\n",
       "  <thead>\n",
       "    <tr style=\"text-align: right;\">\n",
       "      <th></th>\n",
       "      <th>session</th>\n",
       "      <th>method</th>\n",
       "      <th>gender</th>\n",
       "      <th>emotion</th>\n",
       "      <th>n_annotators</th>\n",
       "      <th>agreement</th>\n",
       "      <th>path</th>\n",
       "      <th>transcript</th>\n",
       "      <th>duration</th>\n",
       "    </tr>\n",
       "  </thead>\n",
       "  <tbody>\n",
       "    <tr>\n",
       "      <th>0</th>\n",
       "      <td>1</td>\n",
       "      <td>script</td>\n",
       "      <td>F</td>\n",
       "      <td>neu</td>\n",
       "      <td>3</td>\n",
       "      <td>3</td>\n",
       "      <td>Session1/sentences/wav/Ses01F_script02_1/Ses01...</td>\n",
       "      <td>Fine.\\n</td>\n",
       "      <td>2.070000</td>\n",
       "    </tr>\n",
       "    <tr>\n",
       "      <th>1</th>\n",
       "      <td>1</td>\n",
       "      <td>script</td>\n",
       "      <td>F</td>\n",
       "      <td>fru</td>\n",
       "      <td>3</td>\n",
       "      <td>2</td>\n",
       "      <td>Session1/sentences/wav/Ses01F_script02_1/Ses01...</td>\n",
       "      <td>[BREATHING]\\n</td>\n",
       "      <td>1.502438</td>\n",
       "    </tr>\n",
       "    <tr>\n",
       "      <th>2</th>\n",
       "      <td>1</td>\n",
       "      <td>script</td>\n",
       "      <td>F</td>\n",
       "      <td>neu</td>\n",
       "      <td>3</td>\n",
       "      <td>2</td>\n",
       "      <td>Session1/sentences/wav/Ses01F_script02_1/Ses01...</td>\n",
       "      <td>That's not your flashlight.\\n</td>\n",
       "      <td>2.180000</td>\n",
       "    </tr>\n",
       "    <tr>\n",
       "      <th>3</th>\n",
       "      <td>1</td>\n",
       "      <td>script</td>\n",
       "      <td>F</td>\n",
       "      <td>ang</td>\n",
       "      <td>3</td>\n",
       "      <td>2</td>\n",
       "      <td>Session1/sentences/wav/Ses01F_script02_1/Ses01...</td>\n",
       "      <td>You keep saying my flashlight like it's just ...</td>\n",
       "      <td>2.970000</td>\n",
       "    </tr>\n",
       "    <tr>\n",
       "      <th>4</th>\n",
       "      <td>1</td>\n",
       "      <td>script</td>\n",
       "      <td>F</td>\n",
       "      <td>ang</td>\n",
       "      <td>3</td>\n",
       "      <td>2</td>\n",
       "      <td>Session1/sentences/wav/Ses01F_script02_1/Ses01...</td>\n",
       "      <td>How's that supposed to make me feel?\\n</td>\n",
       "      <td>1.819937</td>\n",
       "    </tr>\n",
       "  </tbody>\n",
       "</table>\n",
       "</div>"
      ],
      "text/plain": [
       "   session  method gender emotion  n_annotators  agreement  \\\n",
       "0        1  script      F     neu             3          3   \n",
       "1        1  script      F     fru             3          2   \n",
       "2        1  script      F     neu             3          2   \n",
       "3        1  script      F     ang             3          2   \n",
       "4        1  script      F     ang             3          2   \n",
       "\n",
       "                                                path  \\\n",
       "0  Session1/sentences/wav/Ses01F_script02_1/Ses01...   \n",
       "1  Session1/sentences/wav/Ses01F_script02_1/Ses01...   \n",
       "2  Session1/sentences/wav/Ses01F_script02_1/Ses01...   \n",
       "3  Session1/sentences/wav/Ses01F_script02_1/Ses01...   \n",
       "4  Session1/sentences/wav/Ses01F_script02_1/Ses01...   \n",
       "\n",
       "                                          transcript  duration  \n",
       "0                                            Fine.\\n  2.070000  \n",
       "1                                      [BREATHING]\\n  1.502438  \n",
       "2                      That's not your flashlight.\\n  2.180000  \n",
       "3   You keep saying my flashlight like it's just ...  2.970000  \n",
       "4             How's that supposed to make me feel?\\n  1.819937  "
      ]
     },
     "execution_count": 32,
     "metadata": {},
     "output_type": "execute_result"
    }
   ],
   "source": [
    "data.head()"
   ]
  },
  {
   "cell_type": "code",
   "execution_count": 33,
   "metadata": {},
   "outputs": [
    {
     "data": {
      "image/png": "[encoded data removed]",
      "text/plain": [
       "<Figure size 640x480 with 1 Axes>"
      ]
     },
     "metadata": {},
     "output_type": "display_data"
    }
   ],
   "source": [
    "import matplotlib.pyplot as plt\n",
    "\n",
    "# Assume your DataFrame is called 'df' and the speech duration column is called 'duration'\n",
    "duration_values = data['duration'].values\n",
    "\n",
    "# Create a histogram with 50 bins\n",
    "plt.hist(duration_values, bins=100, rwidth=0.8, histtype='bar')\n",
    "\n",
    "# Add labels and title\n",
    "plt.xlabel('Speech duration (seconds)')\n",
    "plt.ylabel('Frequency')\n",
    "plt.title('Distribution of speech duration')\n",
    "\n",
    "# Show the plot\n",
    "plt.show()"
   ]
  },
  {
   "cell_type": "code",
   "execution_count": 34,
   "metadata": {},
   "outputs": [
    {
     "data": {
      "text/html": [
       "<div>\n",
       "<style scoped>\n",
       "    .dataframe tbody tr th:only-of-type {\n",
       "        vertical-align: middle;\n",
       "    }\n",
       "\n",
       "    .dataframe tbody tr th {\n",
       "        vertical-align: top;\n",
       "    }\n",
       "\n",
       "    .dataframe thead th {\n",
       "        text-align: right;\n",
       "    }\n",
       "</style>\n",
       "<table border=\"1\" class=\"dataframe\">\n",
       "  <thead>\n",
       "    <tr style=\"text-align: right;\">\n",
       "      <th></th>\n",
       "      <th>session</th>\n",
       "      <th>method</th>\n",
       "      <th>gender</th>\n",
       "      <th>emotion</th>\n",
       "      <th>n_annotators</th>\n",
       "      <th>agreement</th>\n",
       "      <th>path</th>\n",
       "      <th>transcript</th>\n",
       "      <th>duration</th>\n",
       "    </tr>\n",
       "  </thead>\n",
       "  <tbody>\n",
       "    <tr>\n",
       "      <th>0</th>\n",
       "      <td>1</td>\n",
       "      <td>script</td>\n",
       "      <td>F</td>\n",
       "      <td>neu</td>\n",
       "      <td>3</td>\n",
       "      <td>3</td>\n",
       "      <td>Session1/sentences/wav/Ses01F_script02_1/Ses01...</td>\n",
       "      <td>Fine.\\n</td>\n",
       "      <td>2.070000</td>\n",
       "    </tr>\n",
       "    <tr>\n",
       "      <th>1</th>\n",
       "      <td>1</td>\n",
       "      <td>script</td>\n",
       "      <td>F</td>\n",
       "      <td>fru</td>\n",
       "      <td>3</td>\n",
       "      <td>2</td>\n",
       "      <td>Session1/sentences/wav/Ses01F_script02_1/Ses01...</td>\n",
       "      <td>[BREATHING]\\n</td>\n",
       "      <td>1.502438</td>\n",
       "    </tr>\n",
       "    <tr>\n",
       "      <th>2</th>\n",
       "      <td>1</td>\n",
       "      <td>script</td>\n",
       "      <td>F</td>\n",
       "      <td>neu</td>\n",
       "      <td>3</td>\n",
       "      <td>2</td>\n",
       "      <td>Session1/sentences/wav/Ses01F_script02_1/Ses01...</td>\n",
       "      <td>That's not your flashlight.\\n</td>\n",
       "      <td>2.180000</td>\n",
       "    </tr>\n",
       "    <tr>\n",
       "      <th>3</th>\n",
       "      <td>1</td>\n",
       "      <td>script</td>\n",
       "      <td>F</td>\n",
       "      <td>ang</td>\n",
       "      <td>3</td>\n",
       "      <td>2</td>\n",
       "      <td>Session1/sentences/wav/Ses01F_script02_1/Ses01...</td>\n",
       "      <td>You keep saying my flashlight like it's just ...</td>\n",
       "      <td>2.970000</td>\n",
       "    </tr>\n",
       "    <tr>\n",
       "      <th>4</th>\n",
       "      <td>1</td>\n",
       "      <td>script</td>\n",
       "      <td>F</td>\n",
       "      <td>ang</td>\n",
       "      <td>3</td>\n",
       "      <td>2</td>\n",
       "      <td>Session1/sentences/wav/Ses01F_script02_1/Ses01...</td>\n",
       "      <td>How's that supposed to make me feel?\\n</td>\n",
       "      <td>1.819937</td>\n",
       "    </tr>\n",
       "  </tbody>\n",
       "</table>\n",
       "</div>"
      ],
      "text/plain": [
       "   session  method gender emotion  n_annotators  agreement  \\\n",
       "0        1  script      F     neu             3          3   \n",
       "1        1  script      F     fru             3          2   \n",
       "2        1  script      F     neu             3          2   \n",
       "3        1  script      F     ang             3          2   \n",
       "4        1  script      F     ang             3          2   \n",
       "\n",
       "                                                path  \\\n",
       "0  Session1/sentences/wav/Ses01F_script02_1/Ses01...   \n",
       "1  Session1/sentences/wav/Ses01F_script02_1/Ses01...   \n",
       "2  Session1/sentences/wav/Ses01F_script02_1/Ses01...   \n",
       "3  Session1/sentences/wav/Ses01F_script02_1/Ses01...   \n",
       "4  Session1/sentences/wav/Ses01F_script02_1/Ses01...   \n",
       "\n",
       "                                          transcript  duration  \n",
       "0                                            Fine.\\n  2.070000  \n",
       "1                                      [BREATHING]\\n  1.502438  \n",
       "2                      That's not your flashlight.\\n  2.180000  \n",
       "3   You keep saying my flashlight like it's just ...  2.970000  \n",
       "4             How's that supposed to make me feel?\\n  1.819937  "
      ]
     },
     "execution_count": 34,
     "metadata": {},
     "output_type": "execute_result"
    }
   ],
   "source": [
    "data.head()"
   ]
  },
  {
   "cell_type": "code",
   "execution_count": 35,
   "metadata": {},
   "outputs": [
    {
     "data": {
      "image/png": "[encoded data removed]",
      "text/plain": [
       "<Figure size 640x480 with 1 Axes>"
      ]
     },
     "metadata": {},
     "output_type": "display_data"
    }
   ],
   "source": [
    "# Plot the distribution of emotions\n",
    "data['emotion'].value_counts().plot(kind='pie', autopct='%1.1f%%')\n",
    "plt.title('Distribution of emotions')\n",
    "plt.show()"
   ]
  },
  {
   "cell_type": "code",
   "execution_count": 36,
   "metadata": {},
   "outputs": [
    {
     "data": {
      "image/png": "[encoded data removed]",
      "text/plain": [
       "<Figure size 640x480 with 1 Axes>"
      ]
     },
     "metadata": {},
     "output_type": "display_data"
    }
   ],
   "source": [
    "# Plot the distribution of Gender\n",
    "data['gender'].value_counts().plot(kind='pie', autopct='%1.1f%%')\n",
    "plt.title('Distribution of Gender')\n",
    "plt.show()"
   ]
  },
  {
   "cell_type": "code",
   "execution_count": 37,
   "metadata": {},
   "outputs": [
    {
     "data": {
      "image/png": "[encoded data removed]",
      "text/plain": [
       "<Figure size 640x480 with 1 Axes>"
      ]
     },
     "metadata": {},
     "output_type": "display_data"
    }
   ],
   "source": [
    "# Plot the distribution of Gender\n",
    "data['session'].value_counts().plot(kind='pie', autopct='%1.1f%%')\n",
    "plt.title('Distribution of sessions')\n",
    "plt.show()"
   ]
  },
  {
   "cell_type": "code",
   "execution_count": 38,
   "metadata": {},
   "outputs": [
    {
     "data": {
      "image/png": "[encoded data removed]",
      "text/plain": [
       "<Figure size 640x480 with 1 Axes>"
      ]
     },
     "metadata": {},
     "output_type": "display_data"
    }
   ],
   "source": [
    "# Plot the distribution of Gender\n",
    "data['method'].value_counts().plot(kind='pie', autopct='%1.1f%%')\n",
    "plt.title('Distribution of Method (impro - script)')\n",
    "plt.show()"
   ]
  },
  {
   "cell_type": "code",
   "execution_count": 40,
   "metadata": {},
   "outputs": [
    {
     "name": "stdout",
     "output_type": "stream",
     "text": [
      "6785\n"
     ]
    }
   ],
   "source": [
    "data.head()\n",
    "print(len(data))"
   ]
  },
  {
   "cell_type": "code",
   "execution_count": null,
   "metadata": {},
   "outputs": [],
   "source": [
    "#save dataframe pandas as csv file\n",
    "\n",
    "data.to_csv(\"Iemocap_clean_data.csv\")\n"
   ]
  },
  {
   "cell_type": "code",
   "execution_count": null,
   "metadata": {},
   "outputs": [],
   "source": []
  }
 ],
 "metadata": {
  "kernelspec": {
   "display_name": "base",
   "language": "python",
   "name": "python3"
  },
  "language_info": {
   "codemirror_mode": {
    "name": "ipython",
    "version": 3
   },
   "file_extension": ".py",
   "mimetype": "text/x-python",
   "name": "python",
   "nbconvert_exporter": "python",
   "pygments_lexer": "ipython3",
   "version": "3.9.16"
  },
  "orig_nbformat": 4
 },
 "nbformat": 4,
 "nbformat_minor": 2
}
