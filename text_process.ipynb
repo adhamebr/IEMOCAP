{
 "cells": [
  {
   "cell_type": "code",
   "execution_count": 1,
   "metadata": {},
   "outputs": [
    {
     "data": {
      "text/html": [
       "<div>\n",
       "<style scoped>\n",
       "    .dataframe tbody tr th:only-of-type {\n",
       "        vertical-align: middle;\n",
       "    }\n",
       "\n",
       "    .dataframe tbody tr th {\n",
       "        vertical-align: top;\n",
       "    }\n",
       "\n",
       "    .dataframe thead th {\n",
       "        text-align: right;\n",
       "    }\n",
       "</style>\n",
       "<table border=\"1\" class=\"dataframe\">\n",
       "  <thead>\n",
       "    <tr style=\"text-align: right;\">\n",
       "      <th></th>\n",
       "      <th>Unnamed: 0</th>\n",
       "      <th>session</th>\n",
       "      <th>method</th>\n",
       "      <th>gender</th>\n",
       "      <th>emotion</th>\n",
       "      <th>n_annotators</th>\n",
       "      <th>agreement</th>\n",
       "      <th>path</th>\n",
       "      <th>transcript</th>\n",
       "      <th>duration</th>\n",
       "    </tr>\n",
       "  </thead>\n",
       "  <tbody>\n",
       "    <tr>\n",
       "      <th>0</th>\n",
       "      <td>0</td>\n",
       "      <td>1</td>\n",
       "      <td>script</td>\n",
       "      <td>F</td>\n",
       "      <td>neu</td>\n",
       "      <td>3</td>\n",
       "      <td>3</td>\n",
       "      <td>Session1/sentences/wav/Ses01F_script02_1/Ses01...</td>\n",
       "      <td>Fine.\\n</td>\n",
       "      <td>2.070000</td>\n",
       "    </tr>\n",
       "    <tr>\n",
       "      <th>1</th>\n",
       "      <td>1</td>\n",
       "      <td>1</td>\n",
       "      <td>script</td>\n",
       "      <td>F</td>\n",
       "      <td>fru</td>\n",
       "      <td>3</td>\n",
       "      <td>2</td>\n",
       "      <td>Session1/sentences/wav/Ses01F_script02_1/Ses01...</td>\n",
       "      <td>[BREATHING]\\n</td>\n",
       "      <td>1.502438</td>\n",
       "    </tr>\n",
       "    <tr>\n",
       "      <th>2</th>\n",
       "      <td>2</td>\n",
       "      <td>1</td>\n",
       "      <td>script</td>\n",
       "      <td>F</td>\n",
       "      <td>neu</td>\n",
       "      <td>3</td>\n",
       "      <td>2</td>\n",
       "      <td>Session1/sentences/wav/Ses01F_script02_1/Ses01...</td>\n",
       "      <td>That's not your flashlight.\\n</td>\n",
       "      <td>2.180000</td>\n",
       "    </tr>\n",
       "    <tr>\n",
       "      <th>3</th>\n",
       "      <td>3</td>\n",
       "      <td>1</td>\n",
       "      <td>script</td>\n",
       "      <td>F</td>\n",
       "      <td>ang</td>\n",
       "      <td>3</td>\n",
       "      <td>2</td>\n",
       "      <td>Session1/sentences/wav/Ses01F_script02_1/Ses01...</td>\n",
       "      <td>You keep saying my flashlight like it's just ...</td>\n",
       "      <td>2.970000</td>\n",
       "    </tr>\n",
       "    <tr>\n",
       "      <th>4</th>\n",
       "      <td>4</td>\n",
       "      <td>1</td>\n",
       "      <td>script</td>\n",
       "      <td>F</td>\n",
       "      <td>ang</td>\n",
       "      <td>3</td>\n",
       "      <td>2</td>\n",
       "      <td>Session1/sentences/wav/Ses01F_script02_1/Ses01...</td>\n",
       "      <td>How's that supposed to make me feel?\\n</td>\n",
       "      <td>1.819937</td>\n",
       "    </tr>\n",
       "  </tbody>\n",
       "</table>\n",
       "</div>"
      ],
      "text/plain": [
       "   Unnamed: 0  session  method gender emotion  n_annotators  agreement  \\\n",
       "0           0        1  script      F     neu             3          3   \n",
       "1           1        1  script      F     fru             3          2   \n",
       "2           2        1  script      F     neu             3          2   \n",
       "3           3        1  script      F     ang             3          2   \n",
       "4           4        1  script      F     ang             3          2   \n",
       "\n",
       "                                                path  \\\n",
       "0  Session1/sentences/wav/Ses01F_script02_1/Ses01...   \n",
       "1  Session1/sentences/wav/Ses01F_script02_1/Ses01...   \n",
       "2  Session1/sentences/wav/Ses01F_script02_1/Ses01...   \n",
       "3  Session1/sentences/wav/Ses01F_script02_1/Ses01...   \n",
       "4  Session1/sentences/wav/Ses01F_script02_1/Ses01...   \n",
       "\n",
       "                                          transcript  duration  \n",
       "0                                            Fine.\\n  2.070000  \n",
       "1                                      [BREATHING]\\n  1.502438  \n",
       "2                      That's not your flashlight.\\n  2.180000  \n",
       "3   You keep saying my flashlight like it's just ...  2.970000  \n",
       "4             How's that supposed to make me feel?\\n  1.819937  "
      ]
     },
     "execution_count": 1,
     "metadata": {},
     "output_type": "execute_result"
    }
   ],
   "source": [
    "import pandas as pd\n",
    "data  =  pd.read_csv('/Users/adham/Desktop/EMO_REC/Iemocap_clean_data.csv')\n",
    "data.head()"
   ]
  },
  {
   "cell_type": "code",
   "execution_count": 2,
   "metadata": {},
   "outputs": [],
   "source": [
    "import pandas as pd\n",
    "import numpy as np\n",
    "data_text = pd.DataFrame()\n",
    "data_text['transcript'] = data['transcript']\n",
    "data_text['emotion'] = data['emotion']"
   ]
  },
  {
   "cell_type": "code",
   "execution_count": 3,
   "metadata": {},
   "outputs": [
    {
     "data": {
      "text/html": [
       "<div>\n",
       "<style scoped>\n",
       "    .dataframe tbody tr th:only-of-type {\n",
       "        vertical-align: middle;\n",
       "    }\n",
       "\n",
       "    .dataframe tbody tr th {\n",
       "        vertical-align: top;\n",
       "    }\n",
       "\n",
       "    .dataframe thead th {\n",
       "        text-align: right;\n",
       "    }\n",
       "</style>\n",
       "<table border=\"1\" class=\"dataframe\">\n",
       "  <thead>\n",
       "    <tr style=\"text-align: right;\">\n",
       "      <th></th>\n",
       "      <th>transcript</th>\n",
       "      <th>emotion</th>\n",
       "    </tr>\n",
       "  </thead>\n",
       "  <tbody>\n",
       "    <tr>\n",
       "      <th>0</th>\n",
       "      <td>Fine.\\n</td>\n",
       "      <td>neu</td>\n",
       "    </tr>\n",
       "    <tr>\n",
       "      <th>1</th>\n",
       "      <td>[BREATHING]\\n</td>\n",
       "      <td>fru</td>\n",
       "    </tr>\n",
       "    <tr>\n",
       "      <th>2</th>\n",
       "      <td>That's not your flashlight.\\n</td>\n",
       "      <td>neu</td>\n",
       "    </tr>\n",
       "    <tr>\n",
       "      <th>3</th>\n",
       "      <td>You keep saying my flashlight like it's just ...</td>\n",
       "      <td>ang</td>\n",
       "    </tr>\n",
       "    <tr>\n",
       "      <th>4</th>\n",
       "      <td>How's that supposed to make me feel?\\n</td>\n",
       "      <td>ang</td>\n",
       "    </tr>\n",
       "  </tbody>\n",
       "</table>\n",
       "</div>"
      ],
      "text/plain": [
       "                                          transcript emotion\n",
       "0                                            Fine.\\n     neu\n",
       "1                                      [BREATHING]\\n     fru\n",
       "2                      That's not your flashlight.\\n     neu\n",
       "3   You keep saying my flashlight like it's just ...     ang\n",
       "4             How's that supposed to make me feel?\\n     ang"
      ]
     },
     "execution_count": 3,
     "metadata": {},
     "output_type": "execute_result"
    }
   ],
   "source": [
    "data_text.head()"
   ]
  },
  {
   "attachments": {},
   "cell_type": "markdown",
   "metadata": {},
   "source": [
    "lowercassing -\n",
    "stop word removal"
   ]
  },
  {
   "cell_type": "code",
   "execution_count": 4,
   "metadata": {},
   "outputs": [
    {
     "name": "stderr",
     "output_type": "stream",
     "text": [
      "[nltk_data] Downloading package stopwords to /Users/adham/nltk_data...\n",
      "[nltk_data]   Package stopwords is already up-to-date!\n"
     ]
    }
   ],
   "source": [
    "import nltk\n",
    "nltk.download('stopwords')\n",
    "from nltk.corpus import stopwords\n",
    "data_text['transcript'] = data_text['transcript'].str.lower()\n",
    "\n",
    "# Define a function to remove stop words from a single string\n",
    "def remove_stopwords(text):\n",
    "    stop_words = set(stopwords.words('english'))\n",
    "    words = text.split()\n",
    "    filtered_words = [word for word in words if word.lower() not in stop_words]\n",
    "    return ' '.join(filtered_words)\n",
    "\n",
    "# Apply the 'remove_stopwords' function to the 'Text' column\n",
    "data_text['transcript'] = data_text['transcript'].apply(remove_stopwords)\n"
   ]
  },
  {
   "attachments": {},
   "cell_type": "markdown",
   "metadata": {},
   "source": [
    "stemming\n"
   ]
  },
  {
   "cell_type": "code",
   "execution_count": 5,
   "metadata": {},
   "outputs": [
    {
     "name": "stderr",
     "output_type": "stream",
     "text": [
      "[nltk_data] Downloading package punkt to /Users/adham/nltk_data...\n",
      "[nltk_data]   Package punkt is already up-to-date!\n",
      "[nltk_data] Downloading package averaged_perceptron_tagger to\n",
      "[nltk_data]     /Users/adham/nltk_data...\n",
      "[nltk_data]   Package averaged_perceptron_tagger is already up-to-\n",
      "[nltk_data]       date!\n",
      "[nltk_data] Downloading package wordnet to /Users/adham/nltk_data...\n",
      "[nltk_data]   Package wordnet is already up-to-date!\n"
     ]
    }
   ],
   "source": [
    "import pandas as pd\n",
    "import nltk\n",
    "nltk.download('punkt')\n",
    "nltk.download('averaged_perceptron_tagger')\n",
    "nltk.download('wordnet')\n",
    "from nltk.stem import PorterStemmer\n",
    "from nltk.tokenize import word_tokenize\n",
    "from nltk.corpus import wordnet\n",
    "# Define a function to perform stemming on a single string\n",
    "def perform_stemming(text):\n",
    "    stemmer = PorterStemmer()\n",
    "    tokens = word_tokenize(text)\n",
    "    stemmed_words = []\n",
    "    for token in tokens:\n",
    "        stemmed_words.append(stemmer.stem(token))\n",
    "    return ' '.join(stemmed_words)\n",
    "\n",
    "# Apply the 'perform_stemming' function to the 'Text' column\n",
    "data_text['transcript'] = data_text['transcript'].apply(perform_stemming)\n",
    "\n",
    "# Print the updated DataFrame\n",
    "#print(data_text)"
   ]
  },
  {
   "attachments": {},
   "cell_type": "markdown",
   "metadata": {},
   "source": [
    "remove special characters"
   ]
  },
  {
   "cell_type": "code",
   "execution_count": 6,
   "metadata": {},
   "outputs": [],
   "source": [
    "import pandas as pd\n",
    "import re\n",
    "\n",
    "\n",
    "# Define a function to remove non-alphabetic characters from a single string\n",
    "def remove_non_alphabetic(text):\n",
    "    pattern = r'[^a-zA-Z\\s]'\n",
    "    return re.sub(pattern, '', text)\n",
    "\n",
    "# Apply the 'remove_non_alphabetic' function to the 'Text' column\n",
    "data_text['transcript'] = data_text['transcript'].apply(remove_non_alphabetic)\n",
    "\n"
   ]
  },
  {
   "cell_type": "markdown",
   "metadata": {},
   "source": []
  },
  {
   "cell_type": "code",
   "execution_count": 7,
   "metadata": {},
   "outputs": [
    {
     "data": {
      "text/plain": [
       "0                                                   fine \n",
       "1                                                 breath \n",
       "2                                      that s flashlight \n",
       "3                          keep say flashlight like your \n",
       "4                                 how s suppos make feel \n",
       "                              ...                        \n",
       "6780                                                yeah \n",
       "6781    know what  go pass  eventu  mean it ll never p...\n",
       "6782                              that s best way put it \n",
       "6783                                             absolut \n",
       "6784    know what  die  i d realli want cri realli ups...\n",
       "Name: transcript, Length: 6785, dtype: object"
      ]
     },
     "execution_count": 7,
     "metadata": {},
     "output_type": "execute_result"
    }
   ],
   "source": [
    "data_text['transcript']"
   ]
  },
  {
   "cell_type": "code",
   "execution_count": 8,
   "metadata": {},
   "outputs": [
    {
     "name": "stderr",
     "output_type": "stream",
     "text": [
      "/opt/anaconda3/envs/emo_rec/lib/python3.11/site-packages/tqdm/auto.py:21: TqdmWarning: IProgress not found. Please update jupyter and ipywidgets. See https://ipywidgets.readthedocs.io/en/stable/user_install.html\n",
      "  from .autonotebook import tqdm as notebook_tqdm\n",
      "Some weights of the model checkpoint at bert-base-uncased were not used when initializing BertModel: ['cls.predictions.transform.dense.weight', 'cls.seq_relationship.bias', 'cls.seq_relationship.weight', 'cls.predictions.bias', 'cls.predictions.transform.dense.bias', 'cls.predictions.transform.LayerNorm.bias', 'cls.predictions.decoder.weight', 'cls.predictions.transform.LayerNorm.weight']\n",
      "- This IS expected if you are initializing BertModel from the checkpoint of a model trained on another task or with another architecture (e.g. initializing a BertForSequenceClassification model from a BertForPreTraining model).\n",
      "- This IS NOT expected if you are initializing BertModel from the checkpoint of a model that you expect to be exactly identical (initializing a BertForSequenceClassification model from a BertForSequenceClassification model).\n"
     ]
    }
   ],
   "source": [
    "import pandas as pd\n",
    "import torch\n",
    "from transformers import AutoModel, AutoTokenizer\n",
    "\n",
    "# Create a sample DataFrame with a column of preprocessed text data\n",
    "#df = pd.DataFrame({'Text': ['sample text', 'another text']})\n",
    "\n",
    "# Load the pre-trained BERT model\n",
    "model_name = 'bert-base-uncased'\n",
    "model = AutoModel.from_pretrained(model_name)\n",
    "\n",
    "# Load the tokenizer\n",
    "tokenizer = AutoTokenizer.from_pretrained(model_name)\n",
    "\n",
    "# Define a function to generate embeddings for a single string\n",
    "def generate_embedding(text):\n",
    "    # Tokenize the text data\n",
    "    tokens = tokenizer.encode(text, add_special_tokens=True)\n",
    "    # Convert the tokens to a PyTorch tensor\n",
    "    tokens_tensor = torch.tensor(tokens).unsqueeze(0)\n",
    "    # Generate the embeddings for the input tokens\n",
    "    with torch.no_grad():\n",
    "        outputs = model(tokens_tensor)\n",
    "        embedding = outputs.last_hidden_state[:, 0, :]\n",
    "    return embedding.numpy()[0]\n",
    "\n",
    "# Apply the 'generate_embedding' function to the 'Text' column\n",
    "data_text['Embeddings'] = data_text['transcript'].apply(generate_embedding)\n",
    "\n",
    "# Print the updated DataFrame\n",
    "#print(df)\n"
   ]
  },
  {
   "cell_type": "code",
   "execution_count": 12,
   "metadata": {},
   "outputs": [
    {
     "data": {
      "text/plain": [
       "(768,)"
      ]
     },
     "execution_count": 12,
     "metadata": {},
     "output_type": "execute_result"
    }
   ],
   "source": [
    "data_text['Embeddings'][0].shape"
   ]
  },
  {
   "cell_type": "code",
   "execution_count": null,
   "metadata": {},
   "outputs": [],
   "source": [
    "data_text.to_csv(\"IemoCap_embeddings_text.csv\")"
   ]
  }
 ],
 "metadata": {
  "kernelspec": {
   "display_name": "emo_rec",
   "language": "python",
   "name": "python3"
  },
  "language_info": {
   "codemirror_mode": {
    "name": "ipython",
    "version": 3
   },
   "file_extension": ".py",
   "mimetype": "text/x-python",
   "name": "python",
   "nbconvert_exporter": "python",
   "pygments_lexer": "ipython3",
   "version": "3.11.2"
  },
  "orig_nbformat": 4
 },
 "nbformat": 4,
 "nbformat_minor": 2
}
